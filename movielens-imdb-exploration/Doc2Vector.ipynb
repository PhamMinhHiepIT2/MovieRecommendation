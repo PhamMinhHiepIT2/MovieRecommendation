{
 "cells": [
  {
   "cell_type": "code",
   "execution_count": 1,
   "metadata": {},
   "outputs": [],
   "source": [
    "import pandas as pd\n",
    "import numpy as np\n",
    "import re"
   ]
  },
  {
   "cell_type": "markdown",
   "metadata": {},
   "source": [
    "### Create doc to vector"
   ]
  },
  {
   "cell_type": "code",
   "execution_count": 2,
   "metadata": {},
   "outputs": [
    {
     "name": "stderr",
     "output_type": "stream",
     "text": [
      "/Users/dias/anaconda3/lib/python3.6/site-packages/pandas/core/generic.py:5208: SettingWithCopyWarning: \n",
      "A value is trying to be set on a copy of a slice from a DataFrame.\n",
      "Try using .loc[row_indexer,col_indexer] = value instead\n",
      "\n",
      "See the caveats in the documentation: http://pandas.pydata.org/pandas-docs/stable/user_guide/indexing.html#returning-a-view-versus-a-copy\n",
      "  self[name] = value\n"
     ]
    },
    {
     "name": "stdout",
     "output_type": "stream",
     "text": [
      "movie_id     int64\n",
      "title       object\n",
      "release     object\n",
      "dtype: object\n",
      "(1776458, 3)\n"
     ]
    },
    {
     "data": {
      "text/html": [
       "<div>\n",
       "<style scoped>\n",
       "    .dataframe tbody tr th:only-of-type {\n",
       "        vertical-align: middle;\n",
       "    }\n",
       "\n",
       "    .dataframe tbody tr th {\n",
       "        vertical-align: top;\n",
       "    }\n",
       "\n",
       "    .dataframe thead th {\n",
       "        text-align: right;\n",
       "    }\n",
       "</style>\n",
       "<table border=\"1\" class=\"dataframe\">\n",
       "  <thead>\n",
       "    <tr style=\"text-align: right;\">\n",
       "      <th></th>\n",
       "      <th>movie_id</th>\n",
       "      <th>title</th>\n",
       "      <th>release</th>\n",
       "    </tr>\n",
       "  </thead>\n",
       "  <tbody>\n",
       "    <tr>\n",
       "      <th>1</th>\n",
       "      <td>5156</td>\n",
       "      <td>josie duggar's 1st shoes</td>\n",
       "      <td>2010</td>\n",
       "    </tr>\n",
       "    <tr>\n",
       "      <th>5</th>\n",
       "      <td>40704</td>\n",
       "      <td>anniversary</td>\n",
       "      <td>1971</td>\n",
       "    </tr>\n",
       "    <tr>\n",
       "      <th>7</th>\n",
       "      <td>149337</td>\n",
       "      <td>mellody hobson</td>\n",
       "      <td>2005</td>\n",
       "    </tr>\n",
       "    <tr>\n",
       "      <th>8</th>\n",
       "      <td>32020</td>\n",
       "      <td>kiss me kate</td>\n",
       "      <td>2011</td>\n",
       "    </tr>\n",
       "    <tr>\n",
       "      <th>10</th>\n",
       "      <td>112085</td>\n",
       "      <td>the best of olivia</td>\n",
       "      <td>2008</td>\n",
       "    </tr>\n",
       "  </tbody>\n",
       "</table>\n",
       "</div>"
      ],
      "text/plain": [
       "    movie_id                     title release\n",
       "1       5156  josie duggar's 1st shoes    2010\n",
       "5      40704               anniversary    1971\n",
       "7     149337            mellody hobson    2005\n",
       "8      32020              kiss me kate    2011\n",
       "10    112085        the best of olivia    2008"
      ]
     },
     "execution_count": 2,
     "metadata": {},
     "output_type": "execute_result"
    }
   ],
   "source": [
    "columns_movies = [\"movie_id\", \"title\", \"imdb_idx\",\n",
    "                  \"movie_kind\", \"release\", \"imdb_id\", \"phonetic\", \"episode_id\",\n",
    "                  \"season\", \"episode\", \"series_years\", \"md5\"]\n",
    "\n",
    "df_IMDb_movies = pd.read_csv('data/title.csv', delimiter=',', names=columns_movies, encoding = \"ISO-8859-1\", low_memory=False) \n",
    "df_IMDb_movies = df_IMDb_movies.drop(columns=[\"imdb_idx\", \"imdb_id\", \"phonetic\", \"md5\", \"episode_id\", \"episode\", \"movie_kind\", \"season\", \"series_years\"])\n",
    "df_IMDb_movies = df_IMDb_movies.dropna(subset=['release'])\n",
    "df_IMDb_movies[\"release\"] = df_IMDb_movies[\"release\"].apply(lambda x : str(int(x)).split(\"-\")[-1])\n",
    "# we lowered in MovieLens as well\n",
    "df_IMDb_movies = df_IMDb_movies.dropna(subset=[\"title\"])\n",
    "df_IMDb_movies[\"title\"] = df_IMDb_movies[\"title\"].apply(lambda x: x.lower())\n",
    "\n",
    "# drop rows where movie starts with brackets, those are some strange names...\n",
    "df_IMDb_movies = df_IMDb_movies[~df_IMDb_movies.title.str.startswith(\"(\")]\n",
    "\n",
    "# handle seven (se7en) movies, creating new rows containing the content of brackets\n",
    "_df = df_IMDb_movies[df_IMDb_movies.title.str.contains(\"(\", regex=False)]\n",
    "_df.title = _df.title.apply(lambda x: re.search(r'\\((.*?)\\)', x).group(1).strip() if re.search(r'\\((.*?)\\)', x) else x.strip())\n",
    "df_IMDb_movies = df_IMDb_movies.append(_df)\n",
    "\n",
    "print(df_IMDb_movies.dtypes)\n",
    "print(df_IMDb_movies.shape)\n",
    "df_IMDb_movies.head()"
   ]
  },
  {
   "cell_type": "code",
   "execution_count": 3,
   "metadata": {},
   "outputs": [],
   "source": [
    "def clean_movie_title(movie_title):\n",
    "    if movie_title.split(\" \")[-1].startswith(\"(\"):\n",
    "        # remove year from the title, e.g. Toy Story (1995) --> Toy Story\n",
    "        movie_title = (\" \".join(movie_title.split(\" \")[:-1])).strip()\n",
    "\n",
    "    if movie_title.title().split(',')[-1].strip() in ['The', 'A']:\n",
    "        # article + movie title, e.g. Saint, The --> The Saint\n",
    "        movie_title = (movie_title.title().split(',')[-1].strip() + \" \" + \" \".join(movie_title.title().split(',')[:-1])).strip()\n",
    "\n",
    "    # otherwise, it was converting The Devil's Advocate to The Devil'S Advocate\n",
    "    movie_title = movie_title.lower()\n",
    "    return movie_title"
   ]
  },
  {
   "cell_type": "code",
   "execution_count": 4,
   "metadata": {},
   "outputs": [
    {
     "name": "stdout",
     "output_type": "stream",
     "text": [
      "(1767, 23)\n",
      "movie_id_ml     int64\n",
      "title          object\n",
      "release        object\n",
      "url            object\n",
      "unknown         int64\n",
      "action          int64\n",
      "adventure       int64\n",
      "animation       int64\n",
      "childrens       int64\n",
      "comedy          int64\n",
      "crime           int64\n",
      "documentary     int64\n",
      "drama           int64\n",
      "fantasy         int64\n",
      "noir            int64\n",
      "horror          int64\n",
      "musical         int64\n",
      "mystery         int64\n",
      "romance         int64\n",
      "scifi           int64\n",
      "thriller        int64\n",
      "war             int64\n",
      "western         int64\n",
      "dtype: object\n"
     ]
    },
    {
     "name": "stderr",
     "output_type": "stream",
     "text": [
      "/Users/dias/anaconda3/lib/python3.6/site-packages/pandas/core/generic.py:5208: SettingWithCopyWarning: \n",
      "A value is trying to be set on a copy of a slice from a DataFrame.\n",
      "Try using .loc[row_indexer,col_indexer] = value instead\n",
      "\n",
      "See the caveats in the documentation: http://pandas.pydata.org/pandas-docs/stable/user_guide/indexing.html#returning-a-view-versus-a-copy\n",
      "  self[name] = value\n"
     ]
    },
    {
     "data": {
      "text/html": [
       "<div>\n",
       "<style scoped>\n",
       "    .dataframe tbody tr th:only-of-type {\n",
       "        vertical-align: middle;\n",
       "    }\n",
       "\n",
       "    .dataframe tbody tr th {\n",
       "        vertical-align: top;\n",
       "    }\n",
       "\n",
       "    .dataframe thead th {\n",
       "        text-align: right;\n",
       "    }\n",
       "</style>\n",
       "<table border=\"1\" class=\"dataframe\">\n",
       "  <thead>\n",
       "    <tr style=\"text-align: right;\">\n",
       "      <th></th>\n",
       "      <th>movie_id_ml</th>\n",
       "      <th>title</th>\n",
       "      <th>release</th>\n",
       "      <th>url</th>\n",
       "      <th>unknown</th>\n",
       "      <th>action</th>\n",
       "      <th>adventure</th>\n",
       "      <th>animation</th>\n",
       "      <th>childrens</th>\n",
       "      <th>comedy</th>\n",
       "      <th>...</th>\n",
       "      <th>fantasy</th>\n",
       "      <th>noir</th>\n",
       "      <th>horror</th>\n",
       "      <th>musical</th>\n",
       "      <th>mystery</th>\n",
       "      <th>romance</th>\n",
       "      <th>scifi</th>\n",
       "      <th>thriller</th>\n",
       "      <th>war</th>\n",
       "      <th>western</th>\n",
       "    </tr>\n",
       "  </thead>\n",
       "  <tbody>\n",
       "    <tr>\n",
       "      <th>0</th>\n",
       "      <td>1</td>\n",
       "      <td>toy story</td>\n",
       "      <td>1995</td>\n",
       "      <td>http://us.imdb.com/M/title-exact?Toy%20Story%2...</td>\n",
       "      <td>0</td>\n",
       "      <td>0</td>\n",
       "      <td>0</td>\n",
       "      <td>1</td>\n",
       "      <td>1</td>\n",
       "      <td>1</td>\n",
       "      <td>...</td>\n",
       "      <td>0</td>\n",
       "      <td>0</td>\n",
       "      <td>0</td>\n",
       "      <td>0</td>\n",
       "      <td>0</td>\n",
       "      <td>0</td>\n",
       "      <td>0</td>\n",
       "      <td>0</td>\n",
       "      <td>0</td>\n",
       "      <td>0</td>\n",
       "    </tr>\n",
       "    <tr>\n",
       "      <th>1</th>\n",
       "      <td>2</td>\n",
       "      <td>goldeneye</td>\n",
       "      <td>1995</td>\n",
       "      <td>http://us.imdb.com/M/title-exact?GoldenEye%20(...</td>\n",
       "      <td>0</td>\n",
       "      <td>1</td>\n",
       "      <td>1</td>\n",
       "      <td>0</td>\n",
       "      <td>0</td>\n",
       "      <td>0</td>\n",
       "      <td>...</td>\n",
       "      <td>0</td>\n",
       "      <td>0</td>\n",
       "      <td>0</td>\n",
       "      <td>0</td>\n",
       "      <td>0</td>\n",
       "      <td>0</td>\n",
       "      <td>0</td>\n",
       "      <td>1</td>\n",
       "      <td>0</td>\n",
       "      <td>0</td>\n",
       "    </tr>\n",
       "    <tr>\n",
       "      <th>2</th>\n",
       "      <td>3</td>\n",
       "      <td>four rooms</td>\n",
       "      <td>1995</td>\n",
       "      <td>http://us.imdb.com/M/title-exact?Four%20Rooms%...</td>\n",
       "      <td>0</td>\n",
       "      <td>0</td>\n",
       "      <td>0</td>\n",
       "      <td>0</td>\n",
       "      <td>0</td>\n",
       "      <td>0</td>\n",
       "      <td>...</td>\n",
       "      <td>0</td>\n",
       "      <td>0</td>\n",
       "      <td>0</td>\n",
       "      <td>0</td>\n",
       "      <td>0</td>\n",
       "      <td>0</td>\n",
       "      <td>0</td>\n",
       "      <td>1</td>\n",
       "      <td>0</td>\n",
       "      <td>0</td>\n",
       "    </tr>\n",
       "    <tr>\n",
       "      <th>3</th>\n",
       "      <td>4</td>\n",
       "      <td>get shorty</td>\n",
       "      <td>1995</td>\n",
       "      <td>http://us.imdb.com/M/title-exact?Get%20Shorty%...</td>\n",
       "      <td>0</td>\n",
       "      <td>1</td>\n",
       "      <td>0</td>\n",
       "      <td>0</td>\n",
       "      <td>0</td>\n",
       "      <td>1</td>\n",
       "      <td>...</td>\n",
       "      <td>0</td>\n",
       "      <td>0</td>\n",
       "      <td>0</td>\n",
       "      <td>0</td>\n",
       "      <td>0</td>\n",
       "      <td>0</td>\n",
       "      <td>0</td>\n",
       "      <td>0</td>\n",
       "      <td>0</td>\n",
       "      <td>0</td>\n",
       "    </tr>\n",
       "    <tr>\n",
       "      <th>4</th>\n",
       "      <td>5</td>\n",
       "      <td>copycat</td>\n",
       "      <td>1995</td>\n",
       "      <td>http://us.imdb.com/M/title-exact?Copycat%20(1995)</td>\n",
       "      <td>0</td>\n",
       "      <td>0</td>\n",
       "      <td>0</td>\n",
       "      <td>0</td>\n",
       "      <td>0</td>\n",
       "      <td>0</td>\n",
       "      <td>...</td>\n",
       "      <td>0</td>\n",
       "      <td>0</td>\n",
       "      <td>0</td>\n",
       "      <td>0</td>\n",
       "      <td>0</td>\n",
       "      <td>0</td>\n",
       "      <td>0</td>\n",
       "      <td>1</td>\n",
       "      <td>0</td>\n",
       "      <td>0</td>\n",
       "    </tr>\n",
       "  </tbody>\n",
       "</table>\n",
       "<p>5 rows × 23 columns</p>\n",
       "</div>"
      ],
      "text/plain": [
       "   movie_id_ml       title release  \\\n",
       "0            1   toy story    1995   \n",
       "1            2   goldeneye    1995   \n",
       "2            3  four rooms    1995   \n",
       "3            4  get shorty    1995   \n",
       "4            5     copycat    1995   \n",
       "\n",
       "                                                 url  unknown  action  \\\n",
       "0  http://us.imdb.com/M/title-exact?Toy%20Story%2...        0       0   \n",
       "1  http://us.imdb.com/M/title-exact?GoldenEye%20(...        0       1   \n",
       "2  http://us.imdb.com/M/title-exact?Four%20Rooms%...        0       0   \n",
       "3  http://us.imdb.com/M/title-exact?Get%20Shorty%...        0       1   \n",
       "4  http://us.imdb.com/M/title-exact?Copycat%20(1995)        0       0   \n",
       "\n",
       "   adventure  animation  childrens  comedy  ...  fantasy  noir  horror  \\\n",
       "0          0          1          1       1  ...        0     0       0   \n",
       "1          1          0          0       0  ...        0     0       0   \n",
       "2          0          0          0       0  ...        0     0       0   \n",
       "3          0          0          0       1  ...        0     0       0   \n",
       "4          0          0          0       0  ...        0     0       0   \n",
       "\n",
       "   musical  mystery  romance  scifi  thriller  war  western  \n",
       "0        0        0        0      0         0    0        0  \n",
       "1        0        0        0      0         1    0        0  \n",
       "2        0        0        0      0         1    0        0  \n",
       "3        0        0        0      0         0    0        0  \n",
       "4        0        0        0      0         1    0        0  \n",
       "\n",
       "[5 rows x 23 columns]"
      ]
     },
     "execution_count": 4,
     "metadata": {},
     "output_type": "execute_result"
    }
   ],
   "source": [
    "column_item = [\"movie_id_ml\", \"title\", \"release\", \"vrelease\", \"url\", \"unknown\", \n",
    "                    \"action\", \"adventure\", \"animation\", \"childrens\", \"comedy\",\n",
    "                   \"crime\", \"documentary\", \"drama\", \"fantasy\", \"noir\", \"horror\",\n",
    "                   \"musical\", \"mystery\", \"romance\", \"scifi\", \"thriller\",\n",
    "                   \"war\", \"western\"]\n",
    "\n",
    "df_ML_movies = pd.read_csv('data/u.item', delimiter='|', names=column_item, encoding = \"ISO-8859-1\") \n",
    "df_ML_movies = df_ML_movies.drop(columns=[\"vrelease\"])\n",
    "df_ML_movies[\"title\"] = df_ML_movies[\"title\"].apply(lambda row : clean_movie_title(row))   \n",
    "df_ML_movies[\"release\"] = df_ML_movies[\"release\"].apply(lambda x : str(x).split(\"-\")[-1])\n",
    "\n",
    "# drop rows where movie starts with brackets, those are some strange names...\n",
    "df_ML_movies = df_ML_movies[~df_ML_movies.title.str.startswith(\"(\")]\n",
    "\n",
    "# handle seven (se7en) movies, creating new rows containing the content of brackets\n",
    "_df = df_ML_movies[df_ML_movies.title.str.contains(\"(\", regex=False)]\n",
    "_df.title = _df.title.apply(lambda x: re.search(r'\\((.*?)\\)', x).group(1).strip() if re.search(r'\\((.*?)\\)', x) else x.strip())\n",
    "df_ML_movies = df_ML_movies.append(_df)\n",
    "\n",
    "print(df_ML_movies.shape)\n",
    "print(df_ML_movies.dtypes)\n",
    "df_ML_movies.head()"
   ]
  },
  {
   "cell_type": "code",
   "execution_count": 5,
   "metadata": {},
   "outputs": [],
   "source": [
    "df = pd.merge(df_ML_movies, df_IMDb_movies, on=[\"title\", \"release\"])\n",
    "movie_ids = list(df.movie_id_ml.unique())"
   ]
  },
  {
   "cell_type": "markdown",
   "metadata": {},
   "source": [
    "### Create keyword to vector"
   ]
  },
  {
   "cell_type": "code",
   "execution_count": 6,
   "metadata": {},
   "outputs": [
    {
     "name": "stdout",
     "output_type": "stream",
     "text": [
      "mkid          int64\n",
      "movie_id      int64\n",
      "keyword_id    int64\n",
      "dtype: object\n",
      "(4523930, 3)\n"
     ]
    },
    {
     "data": {
      "text/html": [
       "<div>\n",
       "<style scoped>\n",
       "    .dataframe tbody tr th:only-of-type {\n",
       "        vertical-align: middle;\n",
       "    }\n",
       "\n",
       "    .dataframe tbody tr th {\n",
       "        vertical-align: top;\n",
       "    }\n",
       "\n",
       "    .dataframe thead th {\n",
       "        text-align: right;\n",
       "    }\n",
       "</style>\n",
       "<table border=\"1\" class=\"dataframe\">\n",
       "  <thead>\n",
       "    <tr style=\"text-align: right;\">\n",
       "      <th></th>\n",
       "      <th>movie_id</th>\n",
       "      <th>keyword_id</th>\n",
       "    </tr>\n",
       "  </thead>\n",
       "  <tbody>\n",
       "    <tr>\n",
       "      <th>0</th>\n",
       "      <td>2</td>\n",
       "      <td>1</td>\n",
       "    </tr>\n",
       "    <tr>\n",
       "      <th>1</th>\n",
       "      <td>11</td>\n",
       "      <td>2</td>\n",
       "    </tr>\n",
       "    <tr>\n",
       "      <th>2</th>\n",
       "      <td>22</td>\n",
       "      <td>2</td>\n",
       "    </tr>\n",
       "    <tr>\n",
       "      <th>3</th>\n",
       "      <td>44</td>\n",
       "      <td>3</td>\n",
       "    </tr>\n",
       "    <tr>\n",
       "      <th>4</th>\n",
       "      <td>24</td>\n",
       "      <td>2</td>\n",
       "    </tr>\n",
       "  </tbody>\n",
       "</table>\n",
       "</div>"
      ],
      "text/plain": [
       "   movie_id  keyword_id\n",
       "0         2           1\n",
       "1        11           2\n",
       "2        22           2\n",
       "3        44           3\n",
       "4        24           2"
      ]
     },
     "execution_count": 6,
     "metadata": {},
     "output_type": "execute_result"
    }
   ],
   "source": [
    "column_movie_keyword = [\"mkid\", \"movie_id\", \"keyword_id\"]\n",
    "\n",
    "df_movie_keyword = pd.read_csv('data/movie_keyword.csv', delimiter=',', names=column_movie_keyword, encoding = \"ISO-8859-1\") \n",
    "print(df_movie_keyword.dtypes)\n",
    "print(df_movie_keyword.shape)\n",
    "df_movie_keyword = df_movie_keyword.drop(columns=[\"mkid\"])\n",
    "df_movie_keyword.head()"
   ]
  },
  {
   "cell_type": "code",
   "execution_count": 7,
   "metadata": {},
   "outputs": [
    {
     "data": {
      "text/html": [
       "<div>\n",
       "<style scoped>\n",
       "    .dataframe tbody tr th:only-of-type {\n",
       "        vertical-align: middle;\n",
       "    }\n",
       "\n",
       "    .dataframe tbody tr th {\n",
       "        vertical-align: top;\n",
       "    }\n",
       "\n",
       "    .dataframe thead th {\n",
       "        text-align: right;\n",
       "    }\n",
       "</style>\n",
       "<table border=\"1\" class=\"dataframe\">\n",
       "  <thead>\n",
       "    <tr style=\"text-align: right;\">\n",
       "      <th></th>\n",
       "      <th>movie_id_ml</th>\n",
       "      <th>keyword_id</th>\n",
       "    </tr>\n",
       "  </thead>\n",
       "  <tbody>\n",
       "    <tr>\n",
       "      <th>0</th>\n",
       "      <td>1</td>\n",
       "      <td>834</td>\n",
       "    </tr>\n",
       "    <tr>\n",
       "      <th>1</th>\n",
       "      <td>1</td>\n",
       "      <td>2956</td>\n",
       "    </tr>\n",
       "    <tr>\n",
       "      <th>2</th>\n",
       "      <td>1</td>\n",
       "      <td>66752</td>\n",
       "    </tr>\n",
       "    <tr>\n",
       "      <th>3</th>\n",
       "      <td>1</td>\n",
       "      <td>93318</td>\n",
       "    </tr>\n",
       "    <tr>\n",
       "      <th>4</th>\n",
       "      <td>1</td>\n",
       "      <td>73783</td>\n",
       "    </tr>\n",
       "  </tbody>\n",
       "</table>\n",
       "</div>"
      ],
      "text/plain": [
       "   movie_id_ml  keyword_id\n",
       "0            1         834\n",
       "1            1        2956\n",
       "2            1       66752\n",
       "3            1       93318\n",
       "4            1       73783"
      ]
     },
     "execution_count": 7,
     "metadata": {},
     "output_type": "execute_result"
    }
   ],
   "source": [
    "df_movies_keywords = pd.merge(df, df_movie_keyword, on=\"movie_id\")\n",
    "df_movies_keywords = df_movies_keywords[[\"movie_id_ml\",\"keyword_id\"]]\n",
    "df_movies_keywords.head()"
   ]
  },
  {
   "cell_type": "code",
   "execution_count": 10,
   "metadata": {},
   "outputs": [
    {
     "name": "stdout",
     "output_type": "stream",
     "text": [
      "keyword_id     int64\n",
      "keyword       object\n",
      "phonetic      object\n",
      "dtype: object\n",
      "(134170, 3)\n"
     ]
    },
    {
     "data": {
      "text/html": [
       "<div>\n",
       "<style scoped>\n",
       "    .dataframe tbody tr th:only-of-type {\n",
       "        vertical-align: middle;\n",
       "    }\n",
       "\n",
       "    .dataframe tbody tr th {\n",
       "        vertical-align: top;\n",
       "    }\n",
       "\n",
       "    .dataframe thead th {\n",
       "        text-align: right;\n",
       "    }\n",
       "</style>\n",
       "<table border=\"1\" class=\"dataframe\">\n",
       "  <thead>\n",
       "    <tr style=\"text-align: right;\">\n",
       "      <th></th>\n",
       "      <th>keyword_id</th>\n",
       "      <th>keyword</th>\n",
       "    </tr>\n",
       "  </thead>\n",
       "  <tbody>\n",
       "    <tr>\n",
       "      <th>0</th>\n",
       "      <td>2068</td>\n",
       "      <td>handcuffed-to-a-bed</td>\n",
       "    </tr>\n",
       "    <tr>\n",
       "      <th>1</th>\n",
       "      <td>157</td>\n",
       "      <td>jane-austen</td>\n",
       "    </tr>\n",
       "    <tr>\n",
       "      <th>2</th>\n",
       "      <td>8309</td>\n",
       "      <td>narcotic</td>\n",
       "    </tr>\n",
       "    <tr>\n",
       "      <th>3</th>\n",
       "      <td>1059</td>\n",
       "      <td>woods</td>\n",
       "    </tr>\n",
       "    <tr>\n",
       "      <th>4</th>\n",
       "      <td>3991</td>\n",
       "      <td>hanging</td>\n",
       "    </tr>\n",
       "  </tbody>\n",
       "</table>\n",
       "</div>"
      ],
      "text/plain": [
       "   keyword_id              keyword\n",
       "0        2068  handcuffed-to-a-bed\n",
       "1         157          jane-austen\n",
       "2        8309             narcotic\n",
       "3        1059                woods\n",
       "4        3991              hanging"
      ]
     },
     "execution_count": 10,
     "metadata": {},
     "output_type": "execute_result"
    }
   ],
   "source": [
    "column_keyword = [\"keyword_id\", \"keyword\", \"phonetic\"]\n",
    "\n",
    "df_keyword = pd.read_csv('data/keyword.csv', delimiter=',', names=column_keyword, encoding = \"ISO-8859-1\") \n",
    "print(df_keyword.dtypes)\n",
    "print(df_keyword.shape)\n",
    "df_keyword = df_keyword.drop(columns=[\"phonetic\"])\n",
    "df_keyword.head()"
   ]
  },
  {
   "cell_type": "code",
   "execution_count": 8,
   "metadata": {},
   "outputs": [],
   "source": [
    "np_movies_keywords = df_movies_keywords.to_numpy()"
   ]
  },
  {
   "cell_type": "code",
   "execution_count": 11,
   "metadata": {},
   "outputs": [],
   "source": [
    "keyword_vector = np.zeros((df_ML_movies.shape[0], df_keyword.shape[0]))\n",
    "\n",
    "for i in range(np_movies_keywords.shape[0]) :\n",
    "    row = np_movies_keywords[i,0]-1\n",
    "    column = np_movies_keywords[i,1]-1\n",
    "    keyword_vector[row, column] = 1\n",
    "        "
   ]
  },
  {
   "cell_type": "code",
   "execution_count": 12,
   "metadata": {},
   "outputs": [
    {
     "name": "stdout",
     "output_type": "stream",
     "text": [
      "10243\n",
      "(1767, 10243)\n",
      "89924.0\n"
     ]
    }
   ],
   "source": [
    "useful_keywords = []\n",
    "\n",
    "for i in range(keyword_vector.shape[1]) :\n",
    "    cnt = keyword_vector[:,i].sum()\n",
    "    if cnt > 1 :\n",
    "        useful_keywords += [i]\n",
    "        \n",
    "print(len(useful_keywords))\n",
    "keyword_vector = keyword_vector[:,useful_keywords]\n",
    "print(keyword_vector.shape)\n",
    "print(keyword_vector.sum())"
   ]
  },
  {
   "cell_type": "markdown",
   "metadata": {},
   "source": [
    "### Create cast vector"
   ]
  },
  {
   "cell_type": "code",
   "execution_count": 13,
   "metadata": {},
   "outputs": [
    {
     "name": "stdout",
     "output_type": "stream",
     "text": [
      "role_id       int64\n",
      "cast_role    object\n",
      "dtype: object\n",
      "(12, 2)\n"
     ]
    },
    {
     "data": {
      "text/html": [
       "<div>\n",
       "<style scoped>\n",
       "    .dataframe tbody tr th:only-of-type {\n",
       "        vertical-align: middle;\n",
       "    }\n",
       "\n",
       "    .dataframe tbody tr th {\n",
       "        vertical-align: top;\n",
       "    }\n",
       "\n",
       "    .dataframe thead th {\n",
       "        text-align: right;\n",
       "    }\n",
       "</style>\n",
       "<table border=\"1\" class=\"dataframe\">\n",
       "  <thead>\n",
       "    <tr style=\"text-align: right;\">\n",
       "      <th></th>\n",
       "      <th>role_id</th>\n",
       "      <th>cast_role</th>\n",
       "    </tr>\n",
       "  </thead>\n",
       "  <tbody>\n",
       "    <tr>\n",
       "      <th>0</th>\n",
       "      <td>1</td>\n",
       "      <td>actor</td>\n",
       "    </tr>\n",
       "    <tr>\n",
       "      <th>1</th>\n",
       "      <td>2</td>\n",
       "      <td>actress</td>\n",
       "    </tr>\n",
       "    <tr>\n",
       "      <th>2</th>\n",
       "      <td>3</td>\n",
       "      <td>producer</td>\n",
       "    </tr>\n",
       "    <tr>\n",
       "      <th>3</th>\n",
       "      <td>4</td>\n",
       "      <td>writer</td>\n",
       "    </tr>\n",
       "    <tr>\n",
       "      <th>4</th>\n",
       "      <td>5</td>\n",
       "      <td>cinematographer</td>\n",
       "    </tr>\n",
       "  </tbody>\n",
       "</table>\n",
       "</div>"
      ],
      "text/plain": [
       "   role_id        cast_role\n",
       "0        1            actor\n",
       "1        2          actress\n",
       "2        3         producer\n",
       "3        4           writer\n",
       "4        5  cinematographer"
      ]
     },
     "execution_count": 13,
     "metadata": {},
     "output_type": "execute_result"
    }
   ],
   "source": [
    "columns_roles = [\"role_id\", \"cast_role\"]\n",
    "\n",
    "df_roles = pd.read_csv('data/role_type.csv', delimiter=',', names=columns_roles, encoding = \"ISO-8859-1\") \n",
    "print(df_roles.dtypes)\n",
    "print(df_roles.shape)\n",
    "df_roles.head()"
   ]
  },
  {
   "cell_type": "code",
   "execution_count": 14,
   "metadata": {},
   "outputs": [
    {
     "name": "stdout",
     "output_type": "stream",
     "text": [
      "cast_id        int64\n",
      "person_id      int64\n",
      "movie_id       int64\n",
      "role_id      float64\n",
      "dtype: object\n",
      "(36243322, 4)\n"
     ]
    },
    {
     "data": {
      "text/html": [
       "<div>\n",
       "<style scoped>\n",
       "    .dataframe tbody tr th:only-of-type {\n",
       "        vertical-align: middle;\n",
       "    }\n",
       "\n",
       "    .dataframe tbody tr th {\n",
       "        vertical-align: top;\n",
       "    }\n",
       "\n",
       "    .dataframe thead th {\n",
       "        text-align: right;\n",
       "    }\n",
       "</style>\n",
       "<table border=\"1\" class=\"dataframe\">\n",
       "  <thead>\n",
       "    <tr style=\"text-align: right;\">\n",
       "      <th></th>\n",
       "      <th>cast_id</th>\n",
       "      <th>person_id</th>\n",
       "      <th>movie_id</th>\n",
       "      <th>role_id</th>\n",
       "    </tr>\n",
       "  </thead>\n",
       "  <tbody>\n",
       "    <tr>\n",
       "      <th>0</th>\n",
       "      <td>1</td>\n",
       "      <td>1</td>\n",
       "      <td>968504</td>\n",
       "      <td>1.0</td>\n",
       "    </tr>\n",
       "    <tr>\n",
       "      <th>1</th>\n",
       "      <td>2</td>\n",
       "      <td>2</td>\n",
       "      <td>2163857</td>\n",
       "      <td>1.0</td>\n",
       "    </tr>\n",
       "    <tr>\n",
       "      <th>2</th>\n",
       "      <td>3</td>\n",
       "      <td>2</td>\n",
       "      <td>2324528</td>\n",
       "      <td>1.0</td>\n",
       "    </tr>\n",
       "    <tr>\n",
       "      <th>3</th>\n",
       "      <td>4</td>\n",
       "      <td>3</td>\n",
       "      <td>1851347</td>\n",
       "      <td>1.0</td>\n",
       "    </tr>\n",
       "    <tr>\n",
       "      <th>4</th>\n",
       "      <td>5</td>\n",
       "      <td>4</td>\n",
       "      <td>1681365</td>\n",
       "      <td>1.0</td>\n",
       "    </tr>\n",
       "  </tbody>\n",
       "</table>\n",
       "</div>"
      ],
      "text/plain": [
       "   cast_id  person_id  movie_id  role_id\n",
       "0        1          1    968504      1.0\n",
       "1        2          2   2163857      1.0\n",
       "2        3          2   2324528      1.0\n",
       "3        4          3   1851347      1.0\n",
       "4        5          4   1681365      1.0"
      ]
     },
     "execution_count": 14,
     "metadata": {},
     "output_type": "execute_result"
    }
   ],
   "source": [
    "column_cast = [\"cast_id\", \"person_id\", \"movie_id\", \"person_role_id\", \"note\", \"nr_order\", \"role_id\"]\n",
    "\n",
    "df_cast = pd.read_csv('data/cast_info.csv', delimiter=',', names=column_cast, encoding = \"ISO-8859-1\", low_memory=False) \n",
    "df_cast['role_id'] = pd.to_numeric(df_cast['role_id'], errors='coerce')\n",
    "df_cast = df_cast.drop(columns=[\"note\", \"nr_order\", \"person_role_id\"])\n",
    "\n",
    "print(df_cast.dtypes)\n",
    "print(df_cast.shape)\n",
    "df_cast.head()"
   ]
  },
  {
   "cell_type": "code",
   "execution_count": 18,
   "metadata": {},
   "outputs": [
    {
     "name": "stdout",
     "output_type": "stream",
     "text": [
      "person_id        int64\n",
      "cast_name       object\n",
      "imdb_idx        object\n",
      "imdb_id        float64\n",
      "cast_gender     object\n",
      "name_cf         object\n",
      "name_nf         object\n",
      "surname         object\n",
      "md5             object\n",
      "dtype: object\n",
      "(4167491, 9)\n"
     ]
    },
    {
     "data": {
      "text/html": [
       "<div>\n",
       "<style scoped>\n",
       "    .dataframe tbody tr th:only-of-type {\n",
       "        vertical-align: middle;\n",
       "    }\n",
       "\n",
       "    .dataframe tbody tr th {\n",
       "        vertical-align: top;\n",
       "    }\n",
       "\n",
       "    .dataframe thead th {\n",
       "        text-align: right;\n",
       "    }\n",
       "</style>\n",
       "<table border=\"1\" class=\"dataframe\">\n",
       "  <thead>\n",
       "    <tr style=\"text-align: right;\">\n",
       "      <th></th>\n",
       "      <th>person_id</th>\n",
       "      <th>cast_name</th>\n",
       "      <th>cast_gender</th>\n",
       "    </tr>\n",
       "  </thead>\n",
       "  <tbody>\n",
       "    <tr>\n",
       "      <th>0</th>\n",
       "      <td>3343</td>\n",
       "      <td>Abela, Mike</td>\n",
       "      <td>m</td>\n",
       "    </tr>\n",
       "    <tr>\n",
       "      <th>1</th>\n",
       "      <td>446</td>\n",
       "      <td>A., David</td>\n",
       "      <td>m</td>\n",
       "    </tr>\n",
       "    <tr>\n",
       "      <th>2</th>\n",
       "      <td>126</td>\n",
       "      <td>-Alverio, Esteban Rodriguez</td>\n",
       "      <td>m</td>\n",
       "    </tr>\n",
       "    <tr>\n",
       "      <th>3</th>\n",
       "      <td>1678</td>\n",
       "      <td>Abbas, Athar</td>\n",
       "      <td>m</td>\n",
       "    </tr>\n",
       "    <tr>\n",
       "      <th>4</th>\n",
       "      <td>3610</td>\n",
       "      <td>Aberer, Leo</td>\n",
       "      <td>m</td>\n",
       "    </tr>\n",
       "  </tbody>\n",
       "</table>\n",
       "</div>"
      ],
      "text/plain": [
       "   person_id                    cast_name cast_gender\n",
       "0       3343                  Abela, Mike           m\n",
       "1        446                    A., David           m\n",
       "2        126  -Alverio, Esteban Rodriguez           m\n",
       "3       1678                 Abbas, Athar           m\n",
       "4       3610                  Aberer, Leo           m"
      ]
     },
     "execution_count": 18,
     "metadata": {},
     "output_type": "execute_result"
    }
   ],
   "source": [
    "column_people = [\"person_id\", \"cast_name\", \"imdb_idx\", \"imdb_id\", \"cast_gender\", \"name_cf\", \"name_nf\", \"surname\", \"md5\"]\n",
    "\n",
    "df_people = pd.read_csv('data/name.csv', delimiter=',', names=column_people, encoding = \"ISO-8859-1\", low_memory=False) \n",
    "\n",
    "print(df_people.dtypes)\n",
    "print(df_people.shape)\n",
    "df_people = df_people.drop(columns=[\"imdb_idx\", \"imdb_id\", \"md5\", \"name_cf\", \"name_nf\", \"surname\"])\n",
    "df_people.head()"
   ]
  },
  {
   "cell_type": "code",
   "execution_count": 15,
   "metadata": {},
   "outputs": [
    {
     "data": {
      "text/html": [
       "<div>\n",
       "<style scoped>\n",
       "    .dataframe tbody tr th:only-of-type {\n",
       "        vertical-align: middle;\n",
       "    }\n",
       "\n",
       "    .dataframe tbody tr th {\n",
       "        vertical-align: top;\n",
       "    }\n",
       "\n",
       "    .dataframe thead th {\n",
       "        text-align: right;\n",
       "    }\n",
       "</style>\n",
       "<table border=\"1\" class=\"dataframe\">\n",
       "  <thead>\n",
       "    <tr style=\"text-align: right;\">\n",
       "      <th></th>\n",
       "      <th>movie_id_ml</th>\n",
       "      <th>person_id</th>\n",
       "      <th>cast_role</th>\n",
       "    </tr>\n",
       "  </thead>\n",
       "  <tbody>\n",
       "    <tr>\n",
       "      <th>0</th>\n",
       "      <td>1</td>\n",
       "      <td>30260</td>\n",
       "      <td>actor</td>\n",
       "    </tr>\n",
       "    <tr>\n",
       "      <th>1</th>\n",
       "      <td>1</td>\n",
       "      <td>46332</td>\n",
       "      <td>actor</td>\n",
       "    </tr>\n",
       "    <tr>\n",
       "      <th>2</th>\n",
       "      <td>1</td>\n",
       "      <td>46332</td>\n",
       "      <td>actor</td>\n",
       "    </tr>\n",
       "    <tr>\n",
       "      <th>3</th>\n",
       "      <td>1</td>\n",
       "      <td>66226</td>\n",
       "      <td>actor</td>\n",
       "    </tr>\n",
       "    <tr>\n",
       "      <th>4</th>\n",
       "      <td>1</td>\n",
       "      <td>128339</td>\n",
       "      <td>actor</td>\n",
       "    </tr>\n",
       "  </tbody>\n",
       "</table>\n",
       "</div>"
      ],
      "text/plain": [
       "   movie_id_ml  person_id cast_role\n",
       "0            1      30260     actor\n",
       "1            1      46332     actor\n",
       "2            1      46332     actor\n",
       "3            1      66226     actor\n",
       "4            1     128339     actor"
      ]
     },
     "execution_count": 15,
     "metadata": {},
     "output_type": "execute_result"
    }
   ],
   "source": [
    "df_cast_ml = pd.merge(df, df_cast, on=\"movie_id\")\n",
    "df_cast_ml = pd.merge(df_cast_ml, df_roles, on=\"role_id\")\n",
    "df_cast_ml = df_cast_ml[[\"movie_id_ml\",\"person_id\",\"cast_role\"]]\n",
    "df_cast_ml.head()"
   ]
  },
  {
   "cell_type": "code",
   "execution_count": 16,
   "metadata": {},
   "outputs": [],
   "source": [
    "np_cast = df_cast_ml.to_numpy()"
   ]
  },
  {
   "cell_type": "code",
   "execution_count": 19,
   "metadata": {},
   "outputs": [],
   "source": [
    "cast_vector = np.zeros((df_ML_movies.shape[0], df_people.shape[0]))\n",
    "\n",
    "for i in range(np_cast.shape[0]) :\n",
    "    row = np_cast[i,0]-1\n",
    "    column = np_cast[i,1]-1\n",
    "    cast_vector[row, column] = 1\n",
    "        "
   ]
  },
  {
   "cell_type": "code",
   "execution_count": 20,
   "metadata": {},
   "outputs": [
    {
     "name": "stdout",
     "output_type": "stream",
     "text": [
      "19932\n",
      "(1767, 19932)\n",
      "64946.0\n"
     ]
    }
   ],
   "source": [
    "useful_cast = []\n",
    "\n",
    "for i in range(cast_vector.shape[1]) :\n",
    "    cnt = cast_vector[:,i].sum()\n",
    "    if cnt > 1 :\n",
    "        useful_cast += [i]\n",
    "        \n",
    "print(len(useful_cast))\n",
    "cast_vector = cast_vector[:,useful_cast]\n",
    "print(cast_vector.shape)\n",
    "print(cast_vector.sum())"
   ]
  },
  {
   "cell_type": "code",
   "execution_count": 21,
   "metadata": {},
   "outputs": [],
   "source": [
    "### Creating the total vector"
   ]
  },
  {
   "cell_type": "code",
   "execution_count": 23,
   "metadata": {},
   "outputs": [
    {
     "data": {
      "text/plain": [
       "(1767, 30175)"
      ]
     },
     "execution_count": 23,
     "metadata": {},
     "output_type": "execute_result"
    }
   ],
   "source": [
    "movie_vec = np.concatenate((keyword_vector, cast_vector), axis=1)\n",
    "movie_vec.shape"
   ]
  },
  {
   "cell_type": "code",
   "execution_count": 24,
   "metadata": {},
   "outputs": [],
   "source": [
    "genres = [\"movie_id_ml\", \"unknown\", \"action\", \"adventure\", \"animation\", \"childrens\", \"comedy\",\n",
    "                   \"crime\", \"documentary\", \"drama\", \"fantasy\", \"noir\", \"horror\",\n",
    "                   \"musical\", \"mystery\", \"romance\", \"scifi\", \"thriller\",\n",
    "                   \"war\", \"western\"]\n",
    "\n",
    "df_genres = df_ML_movies[genres]"
   ]
  },
  {
   "cell_type": "code",
   "execution_count": 33,
   "metadata": {},
   "outputs": [],
   "source": [
    "np_genres = df_genres.to_numpy()"
   ]
  },
  {
   "cell_type": "code",
   "execution_count": 34,
   "metadata": {},
   "outputs": [
    {
     "data": {
      "text/plain": [
       "(1767, 20)"
      ]
     },
     "execution_count": 34,
     "metadata": {},
     "output_type": "execute_result"
    }
   ],
   "source": [
    "np_genres.shape"
   ]
  },
  {
   "cell_type": "code",
   "execution_count": 37,
   "metadata": {},
   "outputs": [],
   "source": [
    "genre_vector = np.zeros((df_ML_movies.shape[0], 19))\n",
    "\n",
    "for i in range(np_genres.shape[0]) :\n",
    "    row = np_genres[i,0]-1\n",
    "    genre_vector[row,:] += np_genres[i,1:]\n",
    "    \n",
    "genre_vector = (genre_vector > 0).astype(int)"
   ]
  },
  {
   "cell_type": "code",
   "execution_count": 38,
   "metadata": {},
   "outputs": [
    {
     "data": {
      "text/plain": [
       "(1767, 19)"
      ]
     },
     "execution_count": 38,
     "metadata": {},
     "output_type": "execute_result"
    }
   ],
   "source": [
    "genre_vector.shape"
   ]
  },
  {
   "cell_type": "code",
   "execution_count": 39,
   "metadata": {},
   "outputs": [
    {
     "data": {
      "text/plain": [
       "(1767, 30194)"
      ]
     },
     "execution_count": 39,
     "metadata": {},
     "output_type": "execute_result"
    }
   ],
   "source": [
    "movie_vec = np.concatenate((movie_vec, genre_vector), axis=1)\n",
    "movie_vec.shape"
   ]
  },
  {
   "cell_type": "code",
   "execution_count": null,
   "metadata": {},
   "outputs": [],
   "source": []
  }
 ],
 "metadata": {
  "kernelspec": {
   "display_name": "Python 3",
   "language": "python",
   "name": "python3"
  },
  "language_info": {
   "codemirror_mode": {
    "name": "ipython",
    "version": 3
   },
   "file_extension": ".py",
   "mimetype": "text/x-python",
   "name": "python",
   "nbconvert_exporter": "python",
   "pygments_lexer": "ipython3",
   "version": "3.6.5"
  }
 },
 "nbformat": 4,
 "nbformat_minor": 2
}
