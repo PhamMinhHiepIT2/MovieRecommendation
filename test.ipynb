{
 "cells": [
  {
   "cell_type": "code",
   "execution_count": 2,
   "metadata": {},
   "outputs": [],
   "source": [
    "import pandas as pd\n",
    "import json\n",
    "DATA_DIR = \"static/data\"\n",
    "\n",
    "# Siamese data\n",
    "movies = json.load(open(f'{DATA_DIR}/movies.json'))\n",
    "friends = json.load(open(f'{DATA_DIR}/friends.json'))\n",
    "ratings = json.load(open(f'{DATA_DIR}/ratings.json'))"
   ]
  },
  {
   "cell_type": "code",
   "execution_count": 4,
   "metadata": {},
   "outputs": [],
   "source": [
    "import scipy.sparse as sp\n",
    "import numpy as np\n",
    "#soup_movie_features = np.load(f'{DATA_DIR}/soup_movie_features_11.npy')\n",
    "soup_movie_features = sp.load_npz(\n",
    "    f'{DATA_DIR}/soup_movie_features_11.npz').toarray()\n",
    "df_movies = pd.DataFrame(movies)\n",
    "movie_ids = np.array(df_movies.movie_id_ml.unique())\n",
    "new_friend_id = len(friends)\n",
    "\n",
    "\n",
    "# MF data\n",
    "df_ratings = pd.read_csv(f'{DATA_DIR}/ratings.csv')\n",
    "mat = np.zeros((max(df_ratings.user_id), max(df_ratings.movie_id_ml)))\n",
    "ind = np.array(\n",
    "    list(zip(list(df_ratings.user_id-1), list(df_ratings.movie_id_ml-1))))\n",
    "mat[ind[:, 0], ind[:, 1]] = 1\n",
    "movies_ = mat.sum(axis=0).argsort()+1\n",
    "column_item = [\"movie_id_ml\", \"title\", \"release\", \"vrelease\", \"url\", \"unknown\",\n",
    "               \"action\", \"adventure\", \"animation\", \"childrens\", \"comedy\",\n",
    "               \"crime\", \"documentary\", \"drama\", \"fantasy\", \"noir\", \"horror\",\n",
    "               \"musical\", \"mystery\", \"romance\", \"scifi\", \"thriller\",\n",
    "               \"war\", \"western\"]\n",
    "df_ML_movies = pd.read_csv(\n",
    "    f'{DATA_DIR}/u.item.txt', delimiter='|', encoding=\"ISO-8859-1\", names=column_item)\n",
    "df_posters = pd.read_csv(f\"{DATA_DIR}/movie_poster.csv\",\n",
    "                         names=[\"movie_id_ml\", \"poster_url\"])\n",
    "df_ML_movies = pd.merge(df_ML_movies, df_posters, on=\"movie_id_ml\")\n"
   ]
  },
  {
   "cell_type": "code",
   "execution_count": 9,
   "metadata": {},
   "outputs": [
    {
     "data": {
      "text/plain": [
       "Index(['movie_id_ml', 'title', 'release', 'url', 'unknown', 'action',\n",
       "       'adventure', 'animation', 'childrens', 'comedy', 'crime', 'documentary',\n",
       "       'drama', 'fantasy', 'noir', 'horror', 'musical', 'mystery', 'romance',\n",
       "       'scifi', 'thriller', 'war', 'western', 'poster_url', 'soup', 'soup_id',\n",
       "       'trending_score'],\n",
       "      dtype='object')"
      ]
     },
     "execution_count": 9,
     "metadata": {},
     "output_type": "execute_result"
    }
   ],
   "source": [
    "df_movies.head()\n",
    "df_movies.columns"
   ]
  },
  {
   "cell_type": "code",
   "execution_count": 23,
   "metadata": {},
   "outputs": [
    {
     "data": {
      "text/plain": [
       "Index(['movie_id_ml', 'title', 'release', 'url', 'unknown', 'action',\n",
       "       'adventure', 'animation', 'childrens', 'comedy', 'crime', 'documentary',\n",
       "       'drama', 'fantasy', 'noir', 'horror', 'musical', 'mystery', 'romance',\n",
       "       'scifi', 'thriller', 'war', 'western', 'poster_url', 'soup', 'soup_id',\n",
       "       'trending_score'],\n",
       "      dtype='object')"
      ]
     },
     "execution_count": 23,
     "metadata": {},
     "output_type": "execute_result"
    }
   ],
   "source": [
    "def filter_by_genre(genre: str):\n",
    "    data = df_movies.loc[df_ML_movies[genre] == 1]\n",
    "    return data\n",
    "\n",
    "data = filter_by_genre('action')\n",
    "data.columns\n",
    "\n"
   ]
  }
 ],
 "metadata": {
  "interpreter": {
   "hash": "3f50c21cfa2dfc5ed57f49b97d693ccd3d4391b588b185ea1ece824345b34c0d"
  },
  "kernelspec": {
   "display_name": "Python 3.8.12 64-bit ('py3.8': conda)",
   "language": "python",
   "name": "python3"
  },
  "language_info": {
   "codemirror_mode": {
    "name": "ipython",
    "version": 3
   },
   "file_extension": ".py",
   "mimetype": "text/x-python",
   "name": "python",
   "nbconvert_exporter": "python",
   "pygments_lexer": "ipython3",
   "version": "3.8.12"
  },
  "orig_nbformat": 4
 },
 "nbformat": 4,
 "nbformat_minor": 2
}
